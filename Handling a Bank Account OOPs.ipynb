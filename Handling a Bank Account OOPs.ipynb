{
 "cells": [
  {
   "cell_type": "markdown",
   "metadata": {},
   "source": [
    "# Handling a Bank Account"
   ]
  },
  {
   "cell_type": "code",
   "execution_count": 4,
   "metadata": {},
   "outputs": [
    {
     "name": "stdout",
     "output_type": "stream",
     "text": [
      "2500\n",
      "1500\n",
      "100.0\n",
      "BAllance 2500\n",
      "Gatting the Balance 1500\n",
      "Intres Amount is-: 100.0\n"
     ]
    }
   ],
   "source": [
    "class Account:\n",
    "    def __init__(self, title, balance):\n",
    "        self.title = title\n",
    "        self.balance = balance\n",
    "    \n",
    "    def withdrawal(self, amount):\n",
    "        self.balance=self.balance - amount\n",
    "        \n",
    "    \n",
    "    def deposit(self, amount):\n",
    "       self.balance=self.balance + amount \n",
    "       \n",
    "    def getBalance(self):\n",
    "        return self.balance\n",
    "\n",
    "class SavingsAccount(Account):\n",
    "    def __init__(self, title=None, balance=0, interestRate=0):\n",
    "            super().__init__(title, balance)\n",
    "            self.interestRate = interestRate\n",
    "    \n",
    "    def interestAmount(self):\n",
    "        return (self.balance*self.interestRate)/100\n",
    "Ad=SavingsAccount(\"Asish\",2000)\n",
    "Ad.deposit(500)\n",
    "Ad.getBalance()\n",
    "print(Ad.getBalance())\n",
    "\n",
    "Aw=SavingsAccount(\"Asish\",2000)\n",
    "Aw.withdrawal(500)\n",
    "Aw.getBalance()\n",
    "print(Aw.getBalance())\n",
    "\n",
    "Si=SavingsAccount(\"Asish\",2000,5)\n",
    "print(Si.interestAmount())\n",
    "\n",
    "class Account:\n",
    "    def __init__(self, title, balance):\n",
    "        self.title = title\n",
    "        self.balance = balance\n",
    "    \n",
    "    def withdrawal(self, amount):\n",
    "        self.balance=self.balance - amount\n",
    "        \n",
    "    \n",
    "    def deposit(self, amount):\n",
    "       self.balance=self.balance + amount \n",
    "       \n",
    "    def getBalance(self):\n",
    "        return self.balance\n",
    "\n",
    "class SavingsAccount(Account):\n",
    "    def __init__(self, title=None, balance=0, interestRate=0):\n",
    "            super().__init__(title, balance)\n",
    "            self.interestRate = interestRate\n",
    "    \n",
    "    def interestAmount(self):\n",
    "        return (self.balance*self.interestRate)/100\n",
    "Ad=Account(\"Asish\",2000)\n",
    "Ad.deposit(500)\n",
    "Ad.getBalance()\n",
    "print(\"BAllance\",Ad.getBalance())\n",
    "\n",
    "Aw=Account(\"Asish\",2000)\n",
    "Aw.withdrawal(500)\n",
    "Aw.getBalance()\n",
    "print(\"Gatting the Balance\",Aw.getBalance())\n",
    "\n",
    "Si=SavingsAccount(\"Asish\",2000,5)\n",
    "print(\"Intres Amount is-:\",Si.interestAmount())"
   ]
  },
  {
   "cell_type": "code",
   "execution_count": null,
   "metadata": {},
   "outputs": [],
   "source": []
  },
  {
   "cell_type": "code",
   "execution_count": null,
   "metadata": {},
   "outputs": [],
   "source": []
  }
 ],
 "metadata": {
  "kernelspec": {
   "display_name": "Python 3",
   "language": "python",
   "name": "python3"
  },
  "language_info": {
   "codemirror_mode": {
    "name": "ipython",
    "version": 3
   },
   "file_extension": ".py",
   "mimetype": "text/x-python",
   "name": "python",
   "nbconvert_exporter": "python",
   "pygments_lexer": "ipython3",
   "version": "3.8.5"
  }
 },
 "nbformat": 4,
 "nbformat_minor": 4
}
