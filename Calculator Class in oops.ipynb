{
 "cells": [
  {
   "cell_type": "markdown",
   "metadata": {},
   "source": [
    "# Implement a Calculator Class"
   ]
  },
  {
   "cell_type": "code",
   "execution_count": null,
   "metadata": {},
   "outputs": [
    {
     "name": "stdout",
     "output_type": "stream",
     "text": [
      "1:Add\n",
      "2:Subtract\n",
      "3:Multiply\n",
      "4:Divide\n",
      "5:Exit\n",
      "Enter the option: 2\n",
      "Enter the First Number-: 45\n",
      "Enter the Second Number-: 42\n",
      "45.0 - 42.0 = 3.0\n",
      "1:Add\n",
      "2:Subtract\n",
      "3:Multiply\n",
      "4:Divide\n",
      "5:Exit\n"
     ]
    }
   ],
   "source": [
    "class Calculator:\n",
    "    \n",
    "    def add(self,a,b):\n",
    "        return a+b\n",
    "    def subtract(self,a,b):\n",
    "        return a-b\n",
    "    def multiply(self,a,b):\n",
    "        return a*b\n",
    "    def divide(self,a,b):\n",
    "        return a/b\n",
    "my_cal=Calculator()\n",
    "\n",
    "while True:\n",
    "    print(\"1:Add\")\n",
    "    print(\"2:Subtract\")\n",
    "    print(\"3:Multiply\")\n",
    "    print(\"4:Divide\")\n",
    "    print(\"5:Exit\")\n",
    "    \n",
    "    ch =int(input(\"Enter the option: \"))\n",
    "    \n",
    "    if ch in (1,2,3,4,5):\n",
    "        \n",
    "        if ch==5:\n",
    "            break\n",
    "        \n",
    "        a=float(input(\"Enter the First Number-: \"))\n",
    "        b=float(input(\"Enter the Second Number-: \"))\n",
    "        \n",
    "        if ch == 1:\n",
    "            print(a,\"+\",b,\"=\",my_cal.add(a,b))\n",
    "            \n",
    "        elif ch == 2:\n",
    "            print(a,\"-\",b,\"=\",my_cal.subtract(a,b))\n",
    "            \n",
    "        elif ch == 3:\n",
    "            print(a,\"*\",b,\"=\",my_cal.multiply(a,b))\n",
    "            \n",
    "        elif ch == 4:\n",
    "            print(a,\"/\",b,\"=\",my_cal.divide(a,b))\n",
    "            \n",
    "    else:\n",
    "        print(\"Invalide Syntsx.\")"
   ]
  },
  {
   "cell_type": "code",
   "execution_count": null,
   "metadata": {},
   "outputs": [],
   "source": []
  }
 ],
 "metadata": {
  "kernelspec": {
   "display_name": "Python 3",
   "language": "python",
   "name": "python3"
  },
  "language_info": {
   "codemirror_mode": {
    "name": "ipython",
    "version": 3
   },
   "file_extension": ".py",
   "mimetype": "text/x-python",
   "name": "python",
   "nbconvert_exporter": "python",
   "pygments_lexer": "ipython3",
   "version": "3.8.5"
  }
 },
 "nbformat": 4,
 "nbformat_minor": 4
}
