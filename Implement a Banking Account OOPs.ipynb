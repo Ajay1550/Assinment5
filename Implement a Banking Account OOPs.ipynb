{
 "cells": [
  {
   "cell_type": "markdown",
   "metadata": {},
   "source": [
    "# Implement a Banking Account"
   ]
  },
  {
   "cell_type": "code",
   "execution_count": 7,
   "metadata": {},
   "outputs": [
    {
     "name": "stdout",
     "output_type": "stream",
     "text": [
      "Account Details\n",
      "Name of the Account Holder is Asish\n",
      "Available Balance is 5000 Rs\n",
      "Here, Asish is the title, 5000 is the balance . \n",
      "--------------------------------------------------------------\n",
      "Savings Account Details\n",
      "Name of the Account Holder is Asish\n",
      "Available Balance is 5000 Rs\n",
      "Name of the Account Holder is Asish\n",
      "Interest Rate on Current Balance in percent is 5\n",
      "Here, Asish is the title, 5000 is the balance and 5 is the interestRate .\n"
     ]
    }
   ],
   "source": [
    "class Account:\n",
    "    def __init__(self,title=None,balance=0):\n",
    "        self.title=title\n",
    "        self.balance=balance\n",
    "    \n",
    "class SavingsAccount(Account):\n",
    "    def __init__(self, title=None, balance=0,InterestRate=0):\n",
    "        super().__init__(title, balance)\n",
    "        self.InterestRate=InterestRate\n",
    "\n",
    "print(\"Account Details\")\n",
    "A=Account(\"Asish\", 5000)\n",
    "print(f\"Name of the Account Holder is {A.title}\")\n",
    "print(f\"Available Balance is {A.balance} Rs\")\n",
    "print(f\"Here, {A.title} is the title, {A.balance} is the balance . \")\n",
    "print(\"--------------------------------------------------------------\")\n",
    "print(\"Savings Account Details\")\n",
    "SA=SavingsAccount(\"Asish\", 5000, 5)\n",
    "print(f\"Name of the Account Holder is {SA.title}\")\n",
    "print(f\"Available Balance is {SA.balance} Rs\")\n",
    "print(f\"Name of the Account Holder is {A.title}\")\n",
    "print(f\"Interest Rate on Current Balance in percent is {SA.InterestRate}\")\n",
    "print(f\"Here, {SA.title} is the title, {SA.balance} is the balance and {SA.InterestRate} is the interestRate .\")"
   ]
  },
  {
   "cell_type": "code",
   "execution_count": null,
   "metadata": {},
   "outputs": [],
   "source": []
  }
 ],
 "metadata": {
  "kernelspec": {
   "display_name": "Python 3",
   "language": "python",
   "name": "python3"
  },
  "language_info": {
   "codemirror_mode": {
    "name": "ipython",
    "version": 3
   },
   "file_extension": ".py",
   "mimetype": "text/x-python",
   "name": "python",
   "nbconvert_exporter": "python",
   "pygments_lexer": "ipython3",
   "version": "3.8.5"
  }
 },
 "nbformat": 4,
 "nbformat_minor": 4
}
