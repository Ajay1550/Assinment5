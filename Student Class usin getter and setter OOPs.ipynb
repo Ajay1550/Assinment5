{
 "cells": [
  {
   "cell_type": "markdown",
   "metadata": {},
   "source": [
    "# Implement the Complete Student Class"
   ]
  },
  {
   "cell_type": "code",
   "execution_count": 12,
   "metadata": {},
   "outputs": [
    {
     "name": "stdout",
     "output_type": "stream",
     "text": [
      "******************Enter Student Name and Rollnumber*********************\n",
      "Enter the Student Name-: Ajay\n",
      "Enter the Student Rollnumber-: 1234\n",
      "*********************Student Details***********************\n",
      "Student Name is-:  Ajay\n",
      "Student Rollnumber is-:  1234\n"
     ]
    }
   ],
   "source": [
    "class Student:\n",
    "    def __init__(self):\n",
    "        self.__name=\"\"\n",
    "        self.__rollnum=\"\"\n",
    "\n",
    "    def setName(self,name):\n",
    "        self.__name=name\n",
    "    def getName(self):\n",
    "        return self.__name\n",
    "    def setRollNumber(self,rollnum):\n",
    "        self.__rollnum=rollnum\n",
    "    def getRollNumber(self):\n",
    "        return self.__rollnum\n",
    "\n",
    "def main():\n",
    "    print(\"******************Enter Student Name and Rollnumber*********************\")\n",
    "    name = input(\"Enter the Student Name-: \")\n",
    "    rollnum= int(input(\"Enter the Student Rollnumber-: \"))\n",
    "    \n",
    "    e=Student()\n",
    "    e.setName=(name)\n",
    "    e.setRollnumer=(rollnum)\n",
    "    name2=e.getName()\n",
    "    rollnum2=e.getRollNumber()\n",
    "    \n",
    "    print (\"*********************Student Details***********************\")\n",
    "    \n",
    "    print (\"Student Name is-: \",name)\n",
    "    print (\"Student Rollnumber is-: \",rollnum)\n",
    "if __name__==\"__main__\":\n",
    "    main()\n"
   ]
  },
  {
   "cell_type": "code",
   "execution_count": null,
   "metadata": {},
   "outputs": [],
   "source": []
  },
  {
   "cell_type": "code",
   "execution_count": null,
   "metadata": {},
   "outputs": [],
   "source": []
  }
 ],
 "metadata": {
  "kernelspec": {
   "display_name": "Python 3",
   "language": "python",
   "name": "python3"
  },
  "language_info": {
   "codemirror_mode": {
    "name": "ipython",
    "version": 3
   },
   "file_extension": ".py",
   "mimetype": "text/x-python",
   "name": "python",
   "nbconvert_exporter": "python",
   "pygments_lexer": "ipython3",
   "version": "3.8.5"
  }
 },
 "nbformat": 4,
 "nbformat_minor": 4
}
